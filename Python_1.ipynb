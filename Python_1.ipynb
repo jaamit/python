{
  "nbformat": 4,
  "nbformat_minor": 0,
  "metadata": {
    "colab": {
      "name": "Python#1.ipynb",
      "provenance": [],
      "collapsed_sections": [],
      "toc_visible": true,
      "authorship_tag": "ABX9TyMcNcu6mcCot1iYKVDkCgm4",
      "include_colab_link": true
    },
    "kernelspec": {
      "name": "python3",
      "display_name": "Python 3"
    }
  },
  "cells": [
    {
      "cell_type": "markdown",
      "metadata": {
        "id": "view-in-github",
        "colab_type": "text"
      },
      "source": [
        "<a href=\"https://colab.research.google.com/github/jaamit/python/blob/master/Python_1.ipynb\" target=\"_parent\"><img src=\"https://colab.research.google.com/assets/colab-badge.svg\" alt=\"Open In Colab\"/></a>"
      ]
    },
    {
      "cell_type": "markdown",
      "metadata": {
        "id": "L1WMQfFr1F1_",
        "colab_type": "text"
      },
      "source": [
        "# Agenda\n",
        "*   Welcome\n",
        "*   Idea of Computation\n",
        "*   What is Programming?\n",
        "*   Why Python?\n",
        "*   Simple Operations\n",
        "*   Python Variables and types\n",
        "*   Feedback"
      ]
    },
    {
      "cell_type": "markdown",
      "metadata": {
        "id": "zRNuNd9Y2v0U",
        "colab_type": "text"
      },
      "source": [
        "# Welcome"
      ]
    },
    {
      "cell_type": "markdown",
      "metadata": {
        "id": "2ORx-cUh27ED",
        "colab_type": "text"
      },
      "source": [
        "**About Me**\n",
        "\n",
        "https://www.linkedin.com/in/jaamit/\n",
        "\n",
        "@ml_amit\n",
        "\n"
      ]
    },
    {
      "cell_type": "markdown",
      "metadata": {
        "id": "LF7HXFY21MHl",
        "colab_type": "text"
      },
      "source": [
        "# Idea of Computation"
      ]
    },
    {
      "cell_type": "markdown",
      "metadata": {
        "id": "H9BrWU_e1xDM",
        "colab_type": "text"
      },
      "source": [
        "\n",
        "\n",
        "1.   What is computation?\n",
        "\n",
        "*   Computers fundamentally do calculations\n",
        "*   Billions/sec\n",
        "*   Input/Output\n",
        "*   Storage - 100+GBs - TB\n",
        "\n",
        "2.   How does it happen?\n",
        "\n",
        "\n",
        "*   Binary language - 0/1\n",
        "*   Processor language - assembly x86\n",
        "MOV 6, R6\n",
        "*   High level language - humans\n",
        "\n",
        "\n",
        "\n",
        "3.   Computers do what they are told before (ML/AI)\n",
        "\n",
        "Input ---> Device ---> Output\n",
        "\n",
        "\n",
        "\n"
      ]
    },
    {
      "cell_type": "markdown",
      "metadata": {
        "id": "THIiP2Uk1RxB",
        "colab_type": "text"
      },
      "source": [
        "# What is Programming?\n"
      ]
    },
    {
      "cell_type": "markdown",
      "metadata": {
        "id": "BKoh9_Mk5OJo",
        "colab_type": "text"
      },
      "source": [
        "\n",
        "\n",
        "1.   Analogy with Baking & Recipe\n",
        "2.   Solve a problem using computer\n",
        "3.   Algorithms (examples)\n",
        "4.   Compiled vs Interpreted languages\n",
        "5.   Instructions\n",
        "\n",
        "C/C++/Java - Compiled\n",
        "Program - .java -> Complier -> Binary (entire program)\n",
        "\n",
        "Interpreter - Line by line Python\n",
        "\n",
        "English - French - English\n"
      ]
    },
    {
      "cell_type": "markdown",
      "metadata": {
        "id": "fIC3W-T01cqK",
        "colab_type": "text"
      },
      "source": [
        "# Why Python?"
      ]
    },
    {
      "cell_type": "markdown",
      "metadata": {
        "id": "A9XWxA5I6Gm2",
        "colab_type": "text"
      },
      "source": [
        "\n",
        "\n",
        "1.   Easy to get started\n",
        "2.   Easy to understand - simple English\n",
        "3.   Express thoughts without concerning much about syntax\n",
        "\n",
        "Libraries - open source\n",
        "4.   Dynamic vs Static\n",
        "\n",
        "\n"
      ]
    },
    {
      "cell_type": "code",
      "metadata": {
        "id": "qt16qiGgNCxx",
        "colab_type": "code",
        "colab": {}
      },
      "source": [
        ""
      ],
      "execution_count": 0,
      "outputs": []
    },
    {
      "cell_type": "markdown",
      "metadata": {
        "id": "-GUF9oXS1hqX",
        "colab_type": "text"
      },
      "source": [
        "# Simple Operations"
      ]
    },
    {
      "cell_type": "code",
      "metadata": {
        "id": "m0H8nHrm5GxF",
        "colab_type": "code",
        "colab": {
          "base_uri": "https://localhost:8080/",
          "height": 34
        },
        "outputId": "3a5ccfbd-ee20-40f2-a24c-f18f969765eb"
      },
      "source": [
        "print ('Hello World')"
      ],
      "execution_count": 10,
      "outputs": [
        {
          "output_type": "stream",
          "text": [
            "Hello World\n"
          ],
          "name": "stdout"
        }
      ]
    },
    {
      "cell_type": "markdown",
      "metadata": {
        "id": "37oA_BuF1lW1",
        "colab_type": "text"
      },
      "source": [
        "# Python Variables and types"
      ]
    },
    {
      "cell_type": "code",
      "metadata": {
        "id": "MruF1gScFXcB",
        "colab_type": "code",
        "colab": {}
      },
      "source": [
        ""
      ],
      "execution_count": 0,
      "outputs": []
    },
    {
      "cell_type": "markdown",
      "metadata": {
        "id": "lAbLljcz6cRY",
        "colab_type": "text"
      },
      "source": [
        "\n",
        "\n",
        "*   int - Whole number\n",
        "*   float - Decimal\n",
        "*   bool\n",
        "*   None\n",
        "*   string\n",
        "\n"
      ]
    },
    {
      "cell_type": "markdown",
      "metadata": {
        "id": "D_lx7yKr7MqS",
        "colab_type": "text"
      },
      "source": [
        "Math Operations on int/float"
      ]
    },
    {
      "cell_type": "code",
      "metadata": {
        "id": "KBe5W6yzNdhH",
        "colab_type": "code",
        "colab": {
          "base_uri": "https://localhost:8080/",
          "height": 50
        },
        "outputId": "275346a4-b457-4245-f52e-d4364c45ccb3"
      },
      "source": [
        "x = 2 # Type of x is int\n",
        "type(x)\n",
        "y = 7\n",
        "\n",
        "z = x + y\n",
        "\n",
        "print (z)\n",
        "# Add +\n",
        "# Subtract - \n",
        "# Divide / or //\n",
        "# Multiply *\n",
        "\n",
        "print (x+y, x*y, y-x, y/x, y//x)\n"
      ],
      "execution_count": 13,
      "outputs": [
        {
          "output_type": "stream",
          "text": [
            "9\n",
            "9 14 5 3.5 3\n"
          ],
          "name": "stdout"
        }
      ]
    },
    {
      "cell_type": "code",
      "metadata": {
        "id": "K-Ra7_0iOcze",
        "colab_type": "code",
        "colab": {
          "base_uri": "https://localhost:8080/",
          "height": 34
        },
        "outputId": "2b33ee74-1e55-4900-8883-d7cffb0d467e"
      },
      "source": [
        "j = 1.0\n",
        "type(j)"
      ],
      "execution_count": 14,
      "outputs": [
        {
          "output_type": "execute_result",
          "data": {
            "text/plain": [
              "float"
            ]
          },
          "metadata": {
            "tags": []
          },
          "execution_count": 14
        }
      ]
    },
    {
      "cell_type": "markdown",
      "metadata": {
        "id": "J311ArFEFDqz",
        "colab_type": "text"
      },
      "source": [
        "Comparison Operators"
      ]
    },
    {
      "cell_type": "markdown",
      "metadata": {
        "id": "WX19Xcd3O9nA",
        "colab_type": "text"
      },
      "source": [
        "\n",
        "(>, <, >=, <=, ==)"
      ]
    },
    {
      "cell_type": "markdown",
      "metadata": {
        "id": "ymWDl_X57SAO",
        "colab_type": "text"
      },
      "source": [
        "Boolean Logical Operators\n"
      ]
    },
    {
      "cell_type": "code",
      "metadata": {
        "id": "uu_UBW-rFKhU",
        "colab_type": "code",
        "colab": {
          "base_uri": "https://localhost:8080/",
          "height": 84
        },
        "outputId": "dfd967c8-e7a7-44a6-c51c-e745e668f464"
      },
      "source": [
        "print (1 < 2)\n",
        "print (2 == 2)\n",
        "print (3*5 == 15)\n",
        "print ( 1.75 > 2.5)"
      ],
      "execution_count": 20,
      "outputs": [
        {
          "output_type": "stream",
          "text": [
            "True\n",
            "True\n",
            "True\n",
            "False\n"
          ],
          "name": "stdout"
        }
      ]
    },
    {
      "cell_type": "markdown",
      "metadata": {
        "id": "EussmexK7Ybl",
        "colab_type": "text"
      },
      "source": [
        "string\n"
      ]
    },
    {
      "cell_type": "markdown",
      "metadata": {
        "id": "-ZWJ2oQ-EGT5",
        "colab_type": "text"
      },
      "source": [
        "\n",
        "\n",
        "*   letters, special characters, spaces, digits enclosed in quotes \n",
        "*   List item\n",
        "\n"
      ]
    },
    {
      "cell_type": "code",
      "metadata": {
        "id": "XaMhqiTDEeQn",
        "colab_type": "code",
        "colab": {
          "base_uri": "https://localhost:8080/",
          "height": 34
        },
        "outputId": "b8774624-40de-45c3-9c95-20599b9c6a67"
      },
      "source": [
        "fact = 'Python ' + 'is ' + 'awesome ' # concatenation\n",
        "print (fact)"
      ],
      "execution_count": 22,
      "outputs": [
        {
          "output_type": "stream",
          "text": [
            "Python is awesome \n"
          ],
          "name": "stdout"
        }
      ]
    },
    {
      "cell_type": "code",
      "metadata": {
        "id": "KKVrn9UYQz_J",
        "colab_type": "code",
        "colab": {
          "base_uri": "https://localhost:8080/",
          "height": 34
        },
        "outputId": "3a048128-564d-49b0-8de9-0713397bc6cf"
      },
      "source": [
        "name = 'First' + 'Last' # name is binded to string\n",
        "print(name)"
      ],
      "execution_count": 24,
      "outputs": [
        {
          "output_type": "stream",
          "text": [
            "FirstLast\n"
          ],
          "name": "stdout"
        }
      ]
    },
    {
      "cell_type": "code",
      "metadata": {
        "id": "E2YBcSSoQ-2y",
        "colab_type": "code",
        "colab": {
          "base_uri": "https://localhost:8080/",
          "height": 34
        },
        "outputId": "714c4626-98b1-4444-ded3-c55839b79f49"
      },
      "source": [
        "name = 2 # name is binded to int\n",
        "print (name)"
      ],
      "execution_count": 25,
      "outputs": [
        {
          "output_type": "stream",
          "text": [
            "2\n"
          ],
          "name": "stdout"
        }
      ]
    },
    {
      "cell_type": "code",
      "metadata": {
        "id": "WqpabDJWRQ1j",
        "colab_type": "code",
        "colab": {}
      },
      "source": [
        "# STATIC Binding \n",
        "int name = 1;\n",
        "name = 'abc'; # This will not work in Static cases"
      ],
      "execution_count": 0,
      "outputs": []
    },
    {
      "cell_type": "code",
      "metadata": {
        "id": "SeINsGoQQply",
        "colab_type": "code",
        "colab": {
          "base_uri": "https://localhost:8080/",
          "height": 34
        },
        "outputId": "3e98c9a6-9003-4504-ae99-189dbd4cf122"
      },
      "source": [
        "1 + 1"
      ],
      "execution_count": 21,
      "outputs": [
        {
          "output_type": "execute_result",
          "data": {
            "text/plain": [
              "2"
            ]
          },
          "metadata": {
            "tags": []
          },
          "execution_count": 21
        }
      ]
    },
    {
      "cell_type": "code",
      "metadata": {
        "id": "9uUvPkBlQP7z",
        "colab_type": "code",
        "colab": {}
      },
      "source": [
        "s = 'This is a string'\n",
        "s = \"This is another string\"\n",
        "s = '''This is third string'''"
      ],
      "execution_count": 0,
      "outputs": []
    },
    {
      "cell_type": "code",
      "metadata": {
        "id": "0arrS-nRR5e-",
        "colab_type": "code",
        "colab": {
          "base_uri": "https://localhost:8080/",
          "height": 34
        },
        "outputId": "3c75f9c6-efd3-4d68-8bea-2e07c6eae76c"
      },
      "source": [
        "str_x = 'ABC'\n",
        "str_x = 1\n",
        "print(str_x)\n"
      ],
      "execution_count": 28,
      "outputs": [
        {
          "output_type": "stream",
          "text": [
            "1\n"
          ],
          "name": "stdout"
        }
      ]
    },
    {
      "cell_type": "code",
      "metadata": {
        "id": "dYn6cbdjEzeo",
        "colab_type": "code",
        "colab": {
          "base_uri": "https://localhost:8080/",
          "height": 50
        },
        "outputId": "0b612d21-4dbb-461e-ef32-18d34fe83cc8"
      },
      "source": [
        "int_i = input(\"Type anything... \")\n",
        "print (5 * text)"
      ],
      "execution_count": 26,
      "outputs": [
        {
          "output_type": "stream",
          "text": [
            "Type anything... 2\n",
            "22222\n"
          ],
          "name": "stdout"
        }
      ]
    },
    {
      "cell_type": "markdown",
      "metadata": {
        "id": "ANGTF0Q-FYwC",
        "colab_type": "text"
      },
      "source": [
        "# Control Flow/Branching\n",
        "\n",
        "\n",
        "*   = vs ==\n",
        "*   if/elif/else\n",
        "*   indentation\n",
        "\n"
      ]
    },
    {
      "cell_type": "code",
      "metadata": {
        "id": "aUmsx4giS0wm",
        "colab_type": "code",
        "colab": {
          "base_uri": "https://localhost:8080/",
          "height": 50
        },
        "outputId": "f6946322-ad84-4c80-ad6e-0d510b23d9ba"
      },
      "source": [
        "print (2 == 2)\n",
        "x = 2 # Assignment Left Hand Side = RHS \n",
        "print (x == 2) # Equality Comparison "
      ],
      "execution_count": 30,
      "outputs": [
        {
          "output_type": "stream",
          "text": [
            "True\n",
            "True\n"
          ],
          "name": "stdout"
        }
      ]
    },
    {
      "cell_type": "code",
      "metadata": {
        "id": "lcwpAPRNTK15",
        "colab_type": "code",
        "colab": {
          "base_uri": "https://localhost:8080/",
          "height": 34
        },
        "outputId": "6fe3c010-8e90-4d43-e6f2-1a48e4dd15b0"
      },
      "source": [
        "bank_balance = 0\n",
        "bank_balance = bank_balance + 100\n",
        "print (bank_balance == 100)"
      ],
      "execution_count": 31,
      "outputs": [
        {
          "output_type": "stream",
          "text": [
            "True\n"
          ],
          "name": "stdout"
        }
      ]
    },
    {
      "cell_type": "code",
      "metadata": {
        "id": "Yxs9-7D0ThxM",
        "colab_type": "code",
        "colab": {
          "base_uri": "https://localhost:8080/",
          "height": 129
        },
        "outputId": "6f50f6bc-7096-45d1-bc71-0fff6a5eee72"
      },
      "source": [
        "# Decision Making\n",
        "day = 'Monday'\n",
        "# Indentation\n",
        "\n",
        "if day == 'Sunday':\n",
        "  print ('Go hiking') # 2 spaces or 4 spaces\n",
        "elif day = 'Monday':\n",
        "  print ('Office')  # 2 spaces or 4 spaces\n",
        "else:\n",
        "  print ('Sleep')"
      ],
      "execution_count": 35,
      "outputs": [
        {
          "output_type": "error",
          "ename": "SyntaxError",
          "evalue": "ignored",
          "traceback": [
            "\u001b[0;36m  File \u001b[0;32m\"<ipython-input-35-41653e5f4aa5>\"\u001b[0;36m, line \u001b[0;32m5\u001b[0m\n\u001b[0;31m    if day = 'Sunday':\u001b[0m\n\u001b[0m           ^\u001b[0m\n\u001b[0;31mSyntaxError\u001b[0m\u001b[0;31m:\u001b[0m invalid syntax\n"
          ]
        }
      ]
    },
    {
      "cell_type": "code",
      "metadata": {
        "id": "BTWjFcrNUXyk",
        "colab_type": "code",
        "colab": {}
      },
      "source": [
        "if (day == 'Sunday') {\n",
        "    do somthing\n",
        "} else if (day == 'Monday') {\n",
        "    something else\n",
        "}"
      ],
      "execution_count": 0,
      "outputs": []
    },
    {
      "cell_type": "code",
      "metadata": {
        "id": "H3VPJKNxUOXN",
        "colab_type": "code",
        "colab": {
          "base_uri": "https://localhost:8080/",
          "height": 34
        },
        "outputId": "9a79daac-49c0-46b5-8d96-7e33a7a3d429"
      },
      "source": [
        "day == 'Sunday'"
      ],
      "execution_count": 34,
      "outputs": [
        {
          "output_type": "execute_result",
          "data": {
            "text/plain": [
              "False"
            ]
          },
          "metadata": {
            "tags": []
          },
          "execution_count": 34
        }
      ]
    },
    {
      "cell_type": "markdown",
      "metadata": {
        "id": "uIg5AoHQ1nVB",
        "colab_type": "text"
      },
      "source": [
        "# Feedback\n",
        "\n",
        "https://google.github.io/styleguide/pyguide.html"
      ]
    }
  ]
}